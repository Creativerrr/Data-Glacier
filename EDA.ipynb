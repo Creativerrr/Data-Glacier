{
 "cells": [
  {
   "cell_type": "markdown",
   "id": "c763ae9a-e616-4445-a073-db5456aaffbe",
   "metadata": {},
   "source": [
    "# Go-to-Market strategy insight for Cab Investment firm"
   ]
  },
  {
   "cell_type": "markdown",
   "id": "11602fcc-f88f-48cf-ab96-778fa620a7d1",
   "metadata": {
    "jp-MarkdownHeadingCollapsed": true,
    "tags": []
   },
   "source": [
    "## Project Description:\n",
    "\n",
    "<p>XYZ is a private firm in US. Due to remarkable growth in the Cab Industry in last few years and multiple key players in the market, it is planning for an investment in Cab industry and as per their Go-to-Market(G2M) strategy they want to understand the market before taking final decision.</p>\n",
    "\n",
    "## Data Set:\n",
    "\n",
    "You have been provided `4` individual data sets. Time period of data is from `31/01/2016` to `31/12/2018.`\n",
    "    \n",
    "Below are the list of datasets which are provided for the analysis:\n",
    "\n",
    "`Cab_Data.csv` – this file includes details of transaction for `2` cab companies\n",
    "\n",
    "`Customer_ID.csv` – this is a mapping table that contains a unique identifier which links the customer’s demographic details\n",
    "\n",
    "`Transaction_ID.csv` – this is a mapping table that contains transaction to customer mapping and payment mode\n",
    "\n",
    "`City.csv` – this file contains list of US cities, their population and number of cab users\n",
    "\n",
    "## Project Tasks: \n",
    "\n",
    "- [X] Review the Source Documentation\n",
    "- [X] Understand the field names and data types\n",
    "- [X] Identify relationships across the files\n",
    "- [X] Field/feature transformations\n",
    "- [X] Determine which files should be joined versus which ones should be appended\n",
    "- [X] Create master data and explain the relationship\n",
    "- [X] Identify and remove duplicates\n",
    "- [X] Perform other analysis like NA value and outlier detection\n"
   ]
  },
  {
   "cell_type": "markdown",
   "id": "989f897d-0035-45c0-9091-e283019196bc",
   "metadata": {
    "tags": []
   },
   "source": [
    "## Import required Libraries"
   ]
  },
  {
   "cell_type": "code",
   "execution_count": 262,
   "id": "ec1ad988-fca5-4410-b858-d1d4954869a2",
   "metadata": {},
   "outputs": [],
   "source": [
    "import pandas as pd\n",
    "import numpy as np\n",
    "import seaborn as sns\n",
    "import matplotlib.pyplot as plt\n",
    "import datetime\n",
    "import warnings\n",
    "import xlrd\n",
    "import plotly.express as px\n",
    "from plotly.subplots import make_subplots\n",
    "import plotly.graph_objects as go\n",
    "warnings.filterwarnings('ignore')"
   ]
  },
  {
   "cell_type": "markdown",
   "id": "23860391-94b2-40d3-9a12-fb5e228facf8",
   "metadata": {},
   "source": [
    "## Read in Dataset"
   ]
  },
  {
   "cell_type": "code",
   "execution_count": 108,
   "id": "fae19994-032c-4a52-809e-11d707d2da66",
   "metadata": {},
   "outputs": [],
   "source": [
    "Cab_Data = pd.read_csv('G2M_DataSets/Cab_Data.csv')\n",
    "City = pd.read_csv(\"G2M_DataSets/City.csv\")\n",
    "Customer_ID =  pd.read_csv(\"G2M_DataSets/Customer_ID.csv\")\n",
    "Transaction_ID = pd.read_csv(\"G2M_DataSets/Transaction_ID.csv\")"
   ]
  },
  {
   "cell_type": "markdown",
   "id": "716059b6-dbde-4e3f-9478-1cd9170e209c",
   "metadata": {},
   "source": [
    "### Overview of Cab dataset"
   ]
  },
  {
   "cell_type": "code",
   "execution_count": 109,
   "id": "1be87e92-ab6c-40bc-a681-f383c1645a14",
   "metadata": {},
   "outputs": [
    {
     "data": {
      "text/html": [
       "<div>\n",
       "<style scoped>\n",
       "    .dataframe tbody tr th:only-of-type {\n",
       "        vertical-align: middle;\n",
       "    }\n",
       "\n",
       "    .dataframe tbody tr th {\n",
       "        vertical-align: top;\n",
       "    }\n",
       "\n",
       "    .dataframe thead th {\n",
       "        text-align: right;\n",
       "    }\n",
       "</style>\n",
       "<table border=\"1\" class=\"dataframe\">\n",
       "  <thead>\n",
       "    <tr style=\"text-align: right;\">\n",
       "      <th></th>\n",
       "      <th>Transaction ID</th>\n",
       "      <th>Date of Travel</th>\n",
       "      <th>Company</th>\n",
       "      <th>City</th>\n",
       "      <th>KM Travelled</th>\n",
       "      <th>Price Charged</th>\n",
       "      <th>Cost of Trip</th>\n",
       "    </tr>\n",
       "  </thead>\n",
       "  <tbody>\n",
       "    <tr>\n",
       "      <th>0</th>\n",
       "      <td>10000011</td>\n",
       "      <td>42377</td>\n",
       "      <td>Pink Cab</td>\n",
       "      <td>ATLANTA GA</td>\n",
       "      <td>30.45</td>\n",
       "      <td>370.95</td>\n",
       "      <td>313.635</td>\n",
       "    </tr>\n",
       "    <tr>\n",
       "      <th>1</th>\n",
       "      <td>10000012</td>\n",
       "      <td>42375</td>\n",
       "      <td>Pink Cab</td>\n",
       "      <td>ATLANTA GA</td>\n",
       "      <td>28.62</td>\n",
       "      <td>358.52</td>\n",
       "      <td>334.854</td>\n",
       "    </tr>\n",
       "    <tr>\n",
       "      <th>2</th>\n",
       "      <td>10000013</td>\n",
       "      <td>42371</td>\n",
       "      <td>Pink Cab</td>\n",
       "      <td>ATLANTA GA</td>\n",
       "      <td>9.04</td>\n",
       "      <td>125.20</td>\n",
       "      <td>97.632</td>\n",
       "    </tr>\n",
       "    <tr>\n",
       "      <th>3</th>\n",
       "      <td>10000014</td>\n",
       "      <td>42376</td>\n",
       "      <td>Pink Cab</td>\n",
       "      <td>ATLANTA GA</td>\n",
       "      <td>33.17</td>\n",
       "      <td>377.40</td>\n",
       "      <td>351.602</td>\n",
       "    </tr>\n",
       "    <tr>\n",
       "      <th>4</th>\n",
       "      <td>10000015</td>\n",
       "      <td>42372</td>\n",
       "      <td>Pink Cab</td>\n",
       "      <td>ATLANTA GA</td>\n",
       "      <td>8.73</td>\n",
       "      <td>114.62</td>\n",
       "      <td>97.776</td>\n",
       "    </tr>\n",
       "  </tbody>\n",
       "</table>\n",
       "</div>"
      ],
      "text/plain": [
       "   Transaction ID  Date of Travel   Company        City  KM Travelled  \\\n",
       "0        10000011           42377  Pink Cab  ATLANTA GA         30.45   \n",
       "1        10000012           42375  Pink Cab  ATLANTA GA         28.62   \n",
       "2        10000013           42371  Pink Cab  ATLANTA GA          9.04   \n",
       "3        10000014           42376  Pink Cab  ATLANTA GA         33.17   \n",
       "4        10000015           42372  Pink Cab  ATLANTA GA          8.73   \n",
       "\n",
       "   Price Charged  Cost of Trip  \n",
       "0         370.95       313.635  \n",
       "1         358.52       334.854  \n",
       "2         125.20        97.632  \n",
       "3         377.40       351.602  \n",
       "4         114.62        97.776  "
      ]
     },
     "execution_count": 109,
     "metadata": {},
     "output_type": "execute_result"
    }
   ],
   "source": [
    "# Overview of the Cab data to inspect\n",
    "Cab_Data.head()"
   ]
  },
  {
   "cell_type": "code",
   "execution_count": 110,
   "id": "4159f25d-7928-450c-817a-046b6533b19d",
   "metadata": {},
   "outputs": [
    {
     "name": "stdout",
     "output_type": "stream",
     "text": [
      "Shape of Cab_Data (359392, 7)\n"
     ]
    }
   ],
   "source": [
    "# Shape of the Cab data to inspect\n",
    "print(\"Shape of Cab_Data\", Cab_Data.shape)"
   ]
  },
  {
   "cell_type": "code",
   "execution_count": 111,
   "id": "a3626b0d-8888-4eb3-bd23-b4e05465c48b",
   "metadata": {},
   "outputs": [
    {
     "name": "stdout",
     "output_type": "stream",
     "text": [
      "<class 'pandas.core.frame.DataFrame'>\n",
      "RangeIndex: 359392 entries, 0 to 359391\n",
      "Data columns (total 7 columns):\n",
      " #   Column          Non-Null Count   Dtype  \n",
      "---  ------          --------------   -----  \n",
      " 0   Transaction ID  359392 non-null  int64  \n",
      " 1   Date of Travel  359392 non-null  int64  \n",
      " 2   Company         359392 non-null  object \n",
      " 3   City            359392 non-null  object \n",
      " 4   KM Travelled    359392 non-null  float64\n",
      " 5   Price Charged   359392 non-null  float64\n",
      " 6   Cost of Trip    359392 non-null  float64\n",
      "dtypes: float64(3), int64(2), object(2)\n",
      "memory usage: 19.2+ MB\n",
      "None\n"
     ]
    }
   ],
   "source": [
    "# Summary of the Cab data to inspect\n",
    "print(Cab_Data.info())"
   ]
  },
  {
   "cell_type": "markdown",
   "id": "d3901569-6c08-4e90-83af-1a3674751737",
   "metadata": {},
   "source": [
    "`Data wrangling`: `'Date_of_Travel'` needs to be converted from `int64` into to the `datetime`"
   ]
  },
  {
   "cell_type": "code",
   "execution_count": 112,
   "id": "f933125f-5b75-4cb0-af21-97b728d214ce",
   "metadata": {},
   "outputs": [
    {
     "data": {
      "text/plain": [
       "Index(['Transaction ID', 'Date of Travel', 'Company', 'City', 'KM Travelled',\n",
       "       'Price Charged', 'Cost of Trip'],\n",
       "      dtype='object')"
      ]
     },
     "execution_count": 112,
     "metadata": {},
     "output_type": "execute_result"
    }
   ],
   "source": [
    "#Customer_ID dataset to COLUMN name to inspect\n",
    "Cab_Data.columns"
   ]
  },
  {
   "cell_type": "markdown",
   "id": "dda1bcd6-a3c6-47d2-933f-042f871db2b2",
   "metadata": {},
   "source": [
    "##### Cleaning Cab_data dataset"
   ]
  },
  {
   "cell_type": "markdown",
   "id": "eb3b445f-6d34-4815-a50b-fc424041af5f",
   "metadata": {},
   "source": [
    "We now need to clean our data. \n",
    "\n",
    "- Column names. Specifically, the special characters \" \" needs to be replaced by \"_\".\n",
    "\n",
    "For example: `'Transaction ID'`, `'Date of Travel'`, `'KM Travelled'`,\n",
    "       `'Price Charged'`, `'Cost of Trip'` needs to converted as `'Transaction_ID'`, `'Date_of_Travel'`, `'KM_Travelled'`,\n",
    "       `'Price_Charged'`, `'Cost_of_Trip'`.\n",
    "       "
   ]
  },
  {
   "cell_type": "code",
   "execution_count": 113,
   "id": "e72c02c3-0dcf-4541-831c-ff0a2eb5f4b4",
   "metadata": {},
   "outputs": [],
   "source": [
    "# Loop for each column name to clean\n",
    "for col in Cab_Data.columns:\n",
    "    if ' ' in col:\n",
    "        Cab_Data = Cab_Data.rename(columns={col:col.replace(' ','_')})"
   ]
  },
  {
   "cell_type": "code",
   "execution_count": 114,
   "id": "0b9ed070-d37d-4c73-9efe-25bb3f9ba936",
   "metadata": {},
   "outputs": [
    {
     "data": {
      "text/plain": [
       "Index(['Transaction_ID', 'Date_of_Travel', 'Company', 'City', 'KM_Travelled',\n",
       "       'Price_Charged', 'Cost_of_Trip'],\n",
       "      dtype='object')"
      ]
     },
     "execution_count": 114,
     "metadata": {},
     "output_type": "execute_result"
    }
   ],
   "source": [
    "#Cleaned version\n",
    "Cab_Data.columns"
   ]
  },
  {
   "cell_type": "code",
   "execution_count": 115,
   "id": "5001a084-c775-49db-a0ef-5c3f8fbb7837",
   "metadata": {},
   "outputs": [
    {
     "data": {
      "text/html": [
       "<div>\n",
       "<style scoped>\n",
       "    .dataframe tbody tr th:only-of-type {\n",
       "        vertical-align: middle;\n",
       "    }\n",
       "\n",
       "    .dataframe tbody tr th {\n",
       "        vertical-align: top;\n",
       "    }\n",
       "\n",
       "    .dataframe thead th {\n",
       "        text-align: right;\n",
       "    }\n",
       "</style>\n",
       "<table border=\"1\" class=\"dataframe\">\n",
       "  <thead>\n",
       "    <tr style=\"text-align: right;\">\n",
       "      <th></th>\n",
       "      <th>Transaction_ID</th>\n",
       "      <th>Date_of_Travel</th>\n",
       "      <th>Company</th>\n",
       "      <th>City</th>\n",
       "      <th>KM_Travelled</th>\n",
       "      <th>Price_Charged</th>\n",
       "      <th>Cost_of_Trip</th>\n",
       "    </tr>\n",
       "  </thead>\n",
       "  <tbody>\n",
       "    <tr>\n",
       "      <th>0</th>\n",
       "      <td>10000011</td>\n",
       "      <td>42377</td>\n",
       "      <td>Pink Cab</td>\n",
       "      <td>ATLANTA GA</td>\n",
       "      <td>30.45</td>\n",
       "      <td>370.95</td>\n",
       "      <td>313.635</td>\n",
       "    </tr>\n",
       "    <tr>\n",
       "      <th>1</th>\n",
       "      <td>10000012</td>\n",
       "      <td>42375</td>\n",
       "      <td>Pink Cab</td>\n",
       "      <td>ATLANTA GA</td>\n",
       "      <td>28.62</td>\n",
       "      <td>358.52</td>\n",
       "      <td>334.854</td>\n",
       "    </tr>\n",
       "    <tr>\n",
       "      <th>2</th>\n",
       "      <td>10000013</td>\n",
       "      <td>42371</td>\n",
       "      <td>Pink Cab</td>\n",
       "      <td>ATLANTA GA</td>\n",
       "      <td>9.04</td>\n",
       "      <td>125.20</td>\n",
       "      <td>97.632</td>\n",
       "    </tr>\n",
       "    <tr>\n",
       "      <th>3</th>\n",
       "      <td>10000014</td>\n",
       "      <td>42376</td>\n",
       "      <td>Pink Cab</td>\n",
       "      <td>ATLANTA GA</td>\n",
       "      <td>33.17</td>\n",
       "      <td>377.40</td>\n",
       "      <td>351.602</td>\n",
       "    </tr>\n",
       "    <tr>\n",
       "      <th>4</th>\n",
       "      <td>10000015</td>\n",
       "      <td>42372</td>\n",
       "      <td>Pink Cab</td>\n",
       "      <td>ATLANTA GA</td>\n",
       "      <td>8.73</td>\n",
       "      <td>114.62</td>\n",
       "      <td>97.776</td>\n",
       "    </tr>\n",
       "  </tbody>\n",
       "</table>\n",
       "</div>"
      ],
      "text/plain": [
       "   Transaction_ID  Date_of_Travel   Company        City  KM_Travelled  \\\n",
       "0        10000011           42377  Pink Cab  ATLANTA GA         30.45   \n",
       "1        10000012           42375  Pink Cab  ATLANTA GA         28.62   \n",
       "2        10000013           42371  Pink Cab  ATLANTA GA          9.04   \n",
       "3        10000014           42376  Pink Cab  ATLANTA GA         33.17   \n",
       "4        10000015           42372  Pink Cab  ATLANTA GA          8.73   \n",
       "\n",
       "   Price_Charged  Cost_of_Trip  \n",
       "0         370.95       313.635  \n",
       "1         358.52       334.854  \n",
       "2         125.20        97.632  \n",
       "3         377.40       351.602  \n",
       "4         114.62        97.776  "
      ]
     },
     "execution_count": 115,
     "metadata": {},
     "output_type": "execute_result"
    }
   ],
   "source": [
    "#Converted version\n",
    "Cab_Data.head()"
   ]
  },
  {
   "cell_type": "code",
   "execution_count": 116,
   "id": "7311993b-3907-4421-b1c8-6766eb8cd9fa",
   "metadata": {},
   "outputs": [
    {
     "data": {
      "text/plain": [
       "0"
      ]
     },
     "execution_count": 116,
     "metadata": {},
     "output_type": "execute_result"
    }
   ],
   "source": [
    "#checking  duplicate values \n",
    "Cab_Data.duplicated().sum()"
   ]
  },
  {
   "cell_type": "code",
   "execution_count": 118,
   "id": "90e74ce2-e16c-4ab2-af2c-1fe171c61423",
   "metadata": {},
   "outputs": [
    {
     "data": {
      "text/plain": [
       "Transaction_ID    0\n",
       "Date_of_Travel    0\n",
       "Company           0\n",
       "City              0\n",
       "KM_Travelled      0\n",
       "Price_Charged     0\n",
       "Cost_of_Trip      0\n",
       "dtype: int64"
      ]
     },
     "execution_count": 118,
     "metadata": {},
     "output_type": "execute_result"
    }
   ],
   "source": [
    "#checks for null values\n",
    "Cab_Data.isnull().sum()"
   ]
  },
  {
   "cell_type": "markdown",
   "id": "f804002b-1bcc-4b4c-9915-1f52ef42160d",
   "metadata": {},
   "source": [
    "### Overview of City dataset"
   ]
  },
  {
   "cell_type": "code",
   "execution_count": 119,
   "id": "5747bbda-3160-4d2a-8e24-32b975a63f4e",
   "metadata": {},
   "outputs": [
    {
     "data": {
      "text/html": [
       "<div>\n",
       "<style scoped>\n",
       "    .dataframe tbody tr th:only-of-type {\n",
       "        vertical-align: middle;\n",
       "    }\n",
       "\n",
       "    .dataframe tbody tr th {\n",
       "        vertical-align: top;\n",
       "    }\n",
       "\n",
       "    .dataframe thead th {\n",
       "        text-align: right;\n",
       "    }\n",
       "</style>\n",
       "<table border=\"1\" class=\"dataframe\">\n",
       "  <thead>\n",
       "    <tr style=\"text-align: right;\">\n",
       "      <th></th>\n",
       "      <th>City</th>\n",
       "      <th>Population</th>\n",
       "      <th>Users</th>\n",
       "    </tr>\n",
       "  </thead>\n",
       "  <tbody>\n",
       "    <tr>\n",
       "      <th>0</th>\n",
       "      <td>NEW YORK NY</td>\n",
       "      <td>8,405,837</td>\n",
       "      <td>302,149</td>\n",
       "    </tr>\n",
       "    <tr>\n",
       "      <th>1</th>\n",
       "      <td>CHICAGO IL</td>\n",
       "      <td>1,955,130</td>\n",
       "      <td>164,468</td>\n",
       "    </tr>\n",
       "    <tr>\n",
       "      <th>2</th>\n",
       "      <td>LOS ANGELES CA</td>\n",
       "      <td>1,595,037</td>\n",
       "      <td>144,132</td>\n",
       "    </tr>\n",
       "    <tr>\n",
       "      <th>3</th>\n",
       "      <td>MIAMI FL</td>\n",
       "      <td>1,339,155</td>\n",
       "      <td>17,675</td>\n",
       "    </tr>\n",
       "    <tr>\n",
       "      <th>4</th>\n",
       "      <td>SILICON VALLEY</td>\n",
       "      <td>1,177,609</td>\n",
       "      <td>27,247</td>\n",
       "    </tr>\n",
       "  </tbody>\n",
       "</table>\n",
       "</div>"
      ],
      "text/plain": [
       "             City   Population      Users\n",
       "0     NEW YORK NY   8,405,837    302,149 \n",
       "1      CHICAGO IL   1,955,130    164,468 \n",
       "2  LOS ANGELES CA   1,595,037    144,132 \n",
       "3        MIAMI FL   1,339,155     17,675 \n",
       "4  SILICON VALLEY   1,177,609     27,247 "
      ]
     },
     "execution_count": 119,
     "metadata": {},
     "output_type": "execute_result"
    }
   ],
   "source": [
    "# Overview of the City data to inspect\n",
    "City.head()"
   ]
  },
  {
   "cell_type": "code",
   "execution_count": 120,
   "id": "e807d8f2-1023-4074-af9b-93eff8d33e47",
   "metadata": {},
   "outputs": [
    {
     "name": "stdout",
     "output_type": "stream",
     "text": [
      "Shape of City dataset (20, 3)\n"
     ]
    }
   ],
   "source": [
    "# Shape of the Cab data to inspect\n",
    "print(\"Shape of City dataset\", City.shape)"
   ]
  },
  {
   "cell_type": "code",
   "execution_count": 121,
   "id": "e28ab08c-9873-47f9-8511-e1dde8ec0e13",
   "metadata": {},
   "outputs": [
    {
     "name": "stdout",
     "output_type": "stream",
     "text": [
      "<class 'pandas.core.frame.DataFrame'>\n",
      "RangeIndex: 20 entries, 0 to 19\n",
      "Data columns (total 3 columns):\n",
      " #   Column      Non-Null Count  Dtype \n",
      "---  ------      --------------  ----- \n",
      " 0   City        20 non-null     object\n",
      " 1   Population  20 non-null     object\n",
      " 2   Users       20 non-null     object\n",
      "dtypes: object(3)\n",
      "memory usage: 608.0+ bytes\n",
      "None\n"
     ]
    }
   ],
   "source": [
    "# Summary of the City dataset to inspect\n",
    "print(City.info())"
   ]
  },
  {
   "cell_type": "code",
   "execution_count": 122,
   "id": "cf37c1de-2076-4963-bcf4-b8a265bffd83",
   "metadata": {},
   "outputs": [
    {
     "data": {
      "text/plain": [
       "Index(['City', 'Population', 'Users'], dtype='object')"
      ]
     },
     "execution_count": 122,
     "metadata": {},
     "output_type": "execute_result"
    }
   ],
   "source": [
    "#City dataset to COLUMN name to inspect\n",
    "City.columns"
   ]
  },
  {
   "cell_type": "code",
   "execution_count": 123,
   "id": "1b95c974-e187-4772-83fa-45949cabc00f",
   "metadata": {},
   "outputs": [
    {
     "data": {
      "text/plain": [
       "0"
      ]
     },
     "execution_count": 123,
     "metadata": {},
     "output_type": "execute_result"
    }
   ],
   "source": [
    "#checking  duplicate values \n",
    "City.duplicated().sum()"
   ]
  },
  {
   "cell_type": "code",
   "execution_count": 124,
   "id": "fbe508ac-c316-48a4-83a5-a70da4287d67",
   "metadata": {},
   "outputs": [
    {
     "data": {
      "text/plain": [
       "Transaction ID    0\n",
       "Customer ID       0\n",
       "Payment_Mode      0\n",
       "dtype: int64"
      ]
     },
     "execution_count": 124,
     "metadata": {},
     "output_type": "execute_result"
    }
   ],
   "source": [
    "#checks for null values\n",
    "Transaction_ID.isnull().sum()"
   ]
  },
  {
   "cell_type": "code",
   "execution_count": null,
   "id": "e44893b9-cabe-46de-84c9-caa8ed91ce4e",
   "metadata": {},
   "outputs": [],
   "source": []
  },
  {
   "cell_type": "markdown",
   "id": "6cad07a8-e4b8-427c-af24-e6af14ba9e3e",
   "metadata": {},
   "source": [
    "### Overview of Customer_ID dataset"
   ]
  },
  {
   "cell_type": "code",
   "execution_count": 125,
   "id": "c9e9b49a-e540-40f7-9d0d-dd25a81a8098",
   "metadata": {},
   "outputs": [
    {
     "data": {
      "text/html": [
       "<div>\n",
       "<style scoped>\n",
       "    .dataframe tbody tr th:only-of-type {\n",
       "        vertical-align: middle;\n",
       "    }\n",
       "\n",
       "    .dataframe tbody tr th {\n",
       "        vertical-align: top;\n",
       "    }\n",
       "\n",
       "    .dataframe thead th {\n",
       "        text-align: right;\n",
       "    }\n",
       "</style>\n",
       "<table border=\"1\" class=\"dataframe\">\n",
       "  <thead>\n",
       "    <tr style=\"text-align: right;\">\n",
       "      <th></th>\n",
       "      <th>Customer ID</th>\n",
       "      <th>Gender</th>\n",
       "      <th>Age</th>\n",
       "      <th>Income (USD/Month)</th>\n",
       "    </tr>\n",
       "  </thead>\n",
       "  <tbody>\n",
       "    <tr>\n",
       "      <th>0</th>\n",
       "      <td>29290</td>\n",
       "      <td>Male</td>\n",
       "      <td>28</td>\n",
       "      <td>10813</td>\n",
       "    </tr>\n",
       "    <tr>\n",
       "      <th>1</th>\n",
       "      <td>27703</td>\n",
       "      <td>Male</td>\n",
       "      <td>27</td>\n",
       "      <td>9237</td>\n",
       "    </tr>\n",
       "    <tr>\n",
       "      <th>2</th>\n",
       "      <td>28712</td>\n",
       "      <td>Male</td>\n",
       "      <td>53</td>\n",
       "      <td>11242</td>\n",
       "    </tr>\n",
       "    <tr>\n",
       "      <th>3</th>\n",
       "      <td>28020</td>\n",
       "      <td>Male</td>\n",
       "      <td>23</td>\n",
       "      <td>23327</td>\n",
       "    </tr>\n",
       "    <tr>\n",
       "      <th>4</th>\n",
       "      <td>27182</td>\n",
       "      <td>Male</td>\n",
       "      <td>33</td>\n",
       "      <td>8536</td>\n",
       "    </tr>\n",
       "  </tbody>\n",
       "</table>\n",
       "</div>"
      ],
      "text/plain": [
       "   Customer ID Gender  Age  Income (USD/Month)\n",
       "0        29290   Male   28               10813\n",
       "1        27703   Male   27                9237\n",
       "2        28712   Male   53               11242\n",
       "3        28020   Male   23               23327\n",
       "4        27182   Male   33                8536"
      ]
     },
     "execution_count": 125,
     "metadata": {},
     "output_type": "execute_result"
    }
   ],
   "source": [
    "# Overview of the Customer_ID to inspect\n",
    "Customer_ID.head()"
   ]
  },
  {
   "cell_type": "code",
   "execution_count": 126,
   "id": "e08c797a-1d36-48a6-95d1-da21f3e5cd65",
   "metadata": {},
   "outputs": [
    {
     "name": "stdout",
     "output_type": "stream",
     "text": [
      "Shape of Customer_ID (49171, 4)\n"
     ]
    }
   ],
   "source": [
    "# Shape of the Customer_ID dataset to inspect\n",
    "print(\"Shape of Customer_ID\", Customer_ID.shape)"
   ]
  },
  {
   "cell_type": "code",
   "execution_count": 127,
   "id": "e5b2f0da-5437-4444-8b54-8077624104cd",
   "metadata": {},
   "outputs": [
    {
     "name": "stdout",
     "output_type": "stream",
     "text": [
      "<class 'pandas.core.frame.DataFrame'>\n",
      "RangeIndex: 49171 entries, 0 to 49170\n",
      "Data columns (total 4 columns):\n",
      " #   Column              Non-Null Count  Dtype \n",
      "---  ------              --------------  ----- \n",
      " 0   Customer ID         49171 non-null  int64 \n",
      " 1   Gender              49171 non-null  object\n",
      " 2   Age                 49171 non-null  int64 \n",
      " 3   Income (USD/Month)  49171 non-null  int64 \n",
      "dtypes: int64(3), object(1)\n",
      "memory usage: 1.5+ MB\n",
      "None\n"
     ]
    }
   ],
   "source": [
    "# Summary of the City dataset to inspect\n",
    "print(Customer_ID.info())"
   ]
  },
  {
   "cell_type": "code",
   "execution_count": 128,
   "id": "382d97c2-21e6-4dd9-9e2f-25c6652af4ce",
   "metadata": {},
   "outputs": [
    {
     "data": {
      "text/plain": [
       "Index(['Customer ID', 'Gender', 'Age', 'Income (USD/Month)'], dtype='object')"
      ]
     },
     "execution_count": 128,
     "metadata": {},
     "output_type": "execute_result"
    }
   ],
   "source": [
    "#Customer_ID dataset to COLUMN name to inspect\n",
    "Customer_ID.columns"
   ]
  },
  {
   "cell_type": "code",
   "execution_count": 129,
   "id": "9d547395-99d3-4a86-9a85-cdb9d9f35252",
   "metadata": {},
   "outputs": [
    {
     "data": {
      "text/plain": [
       "0"
      ]
     },
     "execution_count": 129,
     "metadata": {},
     "output_type": "execute_result"
    }
   ],
   "source": [
    "#checking  duplicate values \n",
    "Customer_ID.duplicated().sum()"
   ]
  },
  {
   "cell_type": "code",
   "execution_count": 130,
   "id": "6cefd476-9d13-447d-ba05-20022f5a83c9",
   "metadata": {},
   "outputs": [
    {
     "data": {
      "text/plain": [
       "Customer ID           0\n",
       "Gender                0\n",
       "Age                   0\n",
       "Income (USD/Month)    0\n",
       "dtype: int64"
      ]
     },
     "execution_count": 130,
     "metadata": {},
     "output_type": "execute_result"
    }
   ],
   "source": [
    "#checks for null values\n",
    "Customer_ID.isnull().sum()"
   ]
  },
  {
   "cell_type": "markdown",
   "id": "a0c2ed36-b208-4269-8c51-e60a2c9e8ce7",
   "metadata": {},
   "source": [
    "##### Cleaning Customer_ID dataset"
   ]
  },
  {
   "cell_type": "markdown",
   "id": "37b421b5-7f7b-4b55-8d10-40e76c90fbd2",
   "metadata": {},
   "source": [
    "We now need to clean our data Column names. Specifically, the special characters `\" \"` needs to be replaced by `\"_\"`.\n",
    "\n",
    "For example: `'Customer ID'`, `'Income (USD/Month)'` needs to converted as `'Customer_ID'`, `'Income_(USD/Month)'`.\n"
   ]
  },
  {
   "cell_type": "code",
   "execution_count": 131,
   "id": "7ee95d2a-529d-4d9d-b5dc-ee0003d01405",
   "metadata": {},
   "outputs": [],
   "source": [
    "# Loop for each column name to clean\n",
    "for col in Customer_ID.columns:\n",
    "    if ' ' in col:\n",
    "        Customer_ID = Customer_ID.rename(columns={col:col.replace(' ','_')})"
   ]
  },
  {
   "cell_type": "code",
   "execution_count": 132,
   "id": "ea97b99a-e176-4263-b6f2-10a9d3c35480",
   "metadata": {},
   "outputs": [
    {
     "data": {
      "text/plain": [
       "Index(['Customer_ID', 'Gender', 'Age', 'Income_(USD/Month)'], dtype='object')"
      ]
     },
     "execution_count": 132,
     "metadata": {},
     "output_type": "execute_result"
    }
   ],
   "source": [
    "#Cleaned version\n",
    "Customer_ID.columns"
   ]
  },
  {
   "cell_type": "markdown",
   "id": "43a34fcd-089d-4df5-a3ef-7f56baa19e26",
   "metadata": {},
   "source": [
    "### Overview of Transaction_ID dataset"
   ]
  },
  {
   "cell_type": "code",
   "execution_count": 133,
   "id": "c6e6942b-126f-4787-9f8c-f3bcb2256b47",
   "metadata": {},
   "outputs": [
    {
     "data": {
      "text/html": [
       "<div>\n",
       "<style scoped>\n",
       "    .dataframe tbody tr th:only-of-type {\n",
       "        vertical-align: middle;\n",
       "    }\n",
       "\n",
       "    .dataframe tbody tr th {\n",
       "        vertical-align: top;\n",
       "    }\n",
       "\n",
       "    .dataframe thead th {\n",
       "        text-align: right;\n",
       "    }\n",
       "</style>\n",
       "<table border=\"1\" class=\"dataframe\">\n",
       "  <thead>\n",
       "    <tr style=\"text-align: right;\">\n",
       "      <th></th>\n",
       "      <th>Transaction ID</th>\n",
       "      <th>Customer ID</th>\n",
       "      <th>Payment_Mode</th>\n",
       "    </tr>\n",
       "  </thead>\n",
       "  <tbody>\n",
       "    <tr>\n",
       "      <th>0</th>\n",
       "      <td>10000011</td>\n",
       "      <td>29290</td>\n",
       "      <td>Card</td>\n",
       "    </tr>\n",
       "    <tr>\n",
       "      <th>1</th>\n",
       "      <td>10000012</td>\n",
       "      <td>27703</td>\n",
       "      <td>Card</td>\n",
       "    </tr>\n",
       "    <tr>\n",
       "      <th>2</th>\n",
       "      <td>10000013</td>\n",
       "      <td>28712</td>\n",
       "      <td>Cash</td>\n",
       "    </tr>\n",
       "    <tr>\n",
       "      <th>3</th>\n",
       "      <td>10000014</td>\n",
       "      <td>28020</td>\n",
       "      <td>Cash</td>\n",
       "    </tr>\n",
       "    <tr>\n",
       "      <th>4</th>\n",
       "      <td>10000015</td>\n",
       "      <td>27182</td>\n",
       "      <td>Card</td>\n",
       "    </tr>\n",
       "  </tbody>\n",
       "</table>\n",
       "</div>"
      ],
      "text/plain": [
       "   Transaction ID  Customer ID Payment_Mode\n",
       "0        10000011        29290         Card\n",
       "1        10000012        27703         Card\n",
       "2        10000013        28712         Cash\n",
       "3        10000014        28020         Cash\n",
       "4        10000015        27182         Card"
      ]
     },
     "execution_count": 133,
     "metadata": {},
     "output_type": "execute_result"
    }
   ],
   "source": [
    "# Overview of the Customer_ID to inspect\n",
    "Transaction_ID.head()"
   ]
  },
  {
   "cell_type": "code",
   "execution_count": 134,
   "id": "f0ed9ec3-8407-4373-9fb1-4015b028a0d1",
   "metadata": {},
   "outputs": [
    {
     "name": "stdout",
     "output_type": "stream",
     "text": [
      "Shape of Transaction_ID (440098, 3)\n"
     ]
    }
   ],
   "source": [
    "# Shape of the Transaction_ID dataset to inspect\n",
    "print(\"Shape of Transaction_ID\", Transaction_ID.shape)"
   ]
  },
  {
   "cell_type": "code",
   "execution_count": 135,
   "id": "351d8b2a-97ed-4d7a-9ae2-583131d2a9ac",
   "metadata": {},
   "outputs": [
    {
     "name": "stdout",
     "output_type": "stream",
     "text": [
      "<class 'pandas.core.frame.DataFrame'>\n",
      "RangeIndex: 440098 entries, 0 to 440097\n",
      "Data columns (total 3 columns):\n",
      " #   Column          Non-Null Count   Dtype \n",
      "---  ------          --------------   ----- \n",
      " 0   Transaction ID  440098 non-null  int64 \n",
      " 1   Customer ID     440098 non-null  int64 \n",
      " 2   Payment_Mode    440098 non-null  object\n",
      "dtypes: int64(2), object(1)\n",
      "memory usage: 10.1+ MB\n",
      "None\n"
     ]
    }
   ],
   "source": [
    "# Summary of the Transaction_ID dataset to inspect\n",
    "print(Transaction_ID.info())"
   ]
  },
  {
   "cell_type": "code",
   "execution_count": 136,
   "id": "bfec28cf-1aa8-4aa4-9051-82fe212eef9e",
   "metadata": {},
   "outputs": [
    {
     "data": {
      "text/plain": [
       "Index(['Transaction ID', 'Customer ID', 'Payment_Mode'], dtype='object')"
      ]
     },
     "execution_count": 136,
     "metadata": {},
     "output_type": "execute_result"
    }
   ],
   "source": [
    "#Transaction_ID dataset to COLUMN name to inspect\n",
    "Transaction_ID.columns"
   ]
  },
  {
   "cell_type": "code",
   "execution_count": 137,
   "id": "cfd2902e-9f0b-499b-9dfb-6493bca54aa4",
   "metadata": {},
   "outputs": [
    {
     "data": {
      "text/plain": [
       "0"
      ]
     },
     "execution_count": 137,
     "metadata": {},
     "output_type": "execute_result"
    }
   ],
   "source": [
    "#checking  duplicate values \n",
    "Transaction_ID.duplicated().sum()"
   ]
  },
  {
   "cell_type": "code",
   "execution_count": 138,
   "id": "4332f00b-04cc-4595-95cf-291cdafd4af8",
   "metadata": {},
   "outputs": [
    {
     "data": {
      "text/plain": [
       "Transaction ID    0\n",
       "Customer ID       0\n",
       "Payment_Mode      0\n",
       "dtype: int64"
      ]
     },
     "execution_count": 138,
     "metadata": {},
     "output_type": "execute_result"
    }
   ],
   "source": [
    "#checks for null values\n",
    "Transaction_ID.isnull().sum()"
   ]
  },
  {
   "cell_type": "markdown",
   "id": "e892983f-e3cc-4771-87c1-b7a333deba89",
   "metadata": {},
   "source": [
    "##### Cleaning Transaction_ID dataset"
   ]
  },
  {
   "cell_type": "markdown",
   "id": "5cec2e0d-4667-4130-b6ca-2c7448800f98",
   "metadata": {},
   "source": [
    "We now need to clean our data Column names. Specifically, the special characters `\" \"` needs to be replaced by `\"_\"`.\n",
    "\n",
    "For example: `'Transaction ID'`, `'Customer ID'` needs to converted as `'Transaction_ID'`, `'Customer_ID'`.\n"
   ]
  },
  {
   "cell_type": "code",
   "execution_count": 139,
   "id": "9bda7b68-d4eb-4b0e-8233-aa85c6fccba2",
   "metadata": {},
   "outputs": [],
   "source": [
    "# Loop for each column name to clean\n",
    "for col in Transaction_ID.columns:\n",
    "    if ' ' in col:\n",
    "        Transaction_ID = Transaction_ID.rename(columns={col:col.replace(' ','_')})"
   ]
  },
  {
   "cell_type": "code",
   "execution_count": 140,
   "id": "300155d6-fe8f-4c5c-85ec-273e68cc49a4",
   "metadata": {},
   "outputs": [
    {
     "data": {
      "text/plain": [
       "Index(['Transaction_ID', 'Customer_ID', 'Payment_Mode'], dtype='object')"
      ]
     },
     "execution_count": 140,
     "metadata": {},
     "output_type": "execute_result"
    }
   ],
   "source": [
    "#Cleaned version\n",
    "Transaction_ID.columns"
   ]
  },
  {
   "cell_type": "markdown",
   "id": "feec2375-00a4-4899-93fe-6f37cf97daac",
   "metadata": {},
   "source": [
    "## Merging datasets"
   ]
  },
  {
   "cell_type": "markdown",
   "id": "89ae4f62-c4c2-43e7-8083-b58035f342ea",
   "metadata": {},
   "source": [
    "- [x] Determine which files should be joined versus which ones should be appended\n",
    "\n",
    "Join `Transaction_ID` dataset into `Customer_ID` dataset on `Customer_ID`, and Cab_Data on `Transaction_ID`.\n"
   ]
  },
  {
   "cell_type": "code",
   "execution_count": 141,
   "id": "5ab0f91f-5ada-46a3-9397-2a3ba615202f",
   "metadata": {},
   "outputs": [],
   "source": [
    "#Merge 3 dataset cab, trans, cus into df_merge\n",
    "df_merge = Transaction_ID.merge(Customer_ID, on=\"Customer_ID\").merge(Cab_Data, on=\"Transaction_ID\")\n",
    "\n",
    "#Use regex to remove \",\" with replace and astype to change string to int for Population and users\n",
    "user_df= City\n",
    "user_df[['Population','Users']]= user_df[['Population','Users']].replace(r'\\D+', '', regex=True).astype('int64')"
   ]
  },
  {
   "cell_type": "code",
   "execution_count": 142,
   "id": "ee17850c-09de-4953-a10f-40a754f4f1d7",
   "metadata": {},
   "outputs": [
    {
     "data": {
      "text/html": [
       "<div>\n",
       "<style scoped>\n",
       "    .dataframe tbody tr th:only-of-type {\n",
       "        vertical-align: middle;\n",
       "    }\n",
       "\n",
       "    .dataframe tbody tr th {\n",
       "        vertical-align: top;\n",
       "    }\n",
       "\n",
       "    .dataframe thead th {\n",
       "        text-align: right;\n",
       "    }\n",
       "</style>\n",
       "<table border=\"1\" class=\"dataframe\">\n",
       "  <thead>\n",
       "    <tr style=\"text-align: right;\">\n",
       "      <th></th>\n",
       "      <th>Transaction_ID</th>\n",
       "      <th>Customer_ID</th>\n",
       "      <th>Payment_Mode</th>\n",
       "      <th>Gender</th>\n",
       "      <th>Age</th>\n",
       "      <th>Income_(USD/Month)</th>\n",
       "      <th>Date_of_Travel</th>\n",
       "      <th>Company</th>\n",
       "      <th>City</th>\n",
       "      <th>KM_Travelled</th>\n",
       "      <th>Price_Charged</th>\n",
       "      <th>Cost_of_Trip</th>\n",
       "    </tr>\n",
       "  </thead>\n",
       "  <tbody>\n",
       "    <tr>\n",
       "      <th>0</th>\n",
       "      <td>10000011</td>\n",
       "      <td>29290</td>\n",
       "      <td>Card</td>\n",
       "      <td>Male</td>\n",
       "      <td>28</td>\n",
       "      <td>10813</td>\n",
       "      <td>42377</td>\n",
       "      <td>Pink Cab</td>\n",
       "      <td>ATLANTA GA</td>\n",
       "      <td>30.45</td>\n",
       "      <td>370.95</td>\n",
       "      <td>313.6350</td>\n",
       "    </tr>\n",
       "    <tr>\n",
       "      <th>1</th>\n",
       "      <td>10351127</td>\n",
       "      <td>29290</td>\n",
       "      <td>Cash</td>\n",
       "      <td>Male</td>\n",
       "      <td>28</td>\n",
       "      <td>10813</td>\n",
       "      <td>43302</td>\n",
       "      <td>Yellow Cab</td>\n",
       "      <td>ATLANTA GA</td>\n",
       "      <td>26.19</td>\n",
       "      <td>598.70</td>\n",
       "      <td>317.4228</td>\n",
       "    </tr>\n",
       "    <tr>\n",
       "      <th>2</th>\n",
       "      <td>10412921</td>\n",
       "      <td>29290</td>\n",
       "      <td>Card</td>\n",
       "      <td>Male</td>\n",
       "      <td>28</td>\n",
       "      <td>10813</td>\n",
       "      <td>43427</td>\n",
       "      <td>Yellow Cab</td>\n",
       "      <td>ATLANTA GA</td>\n",
       "      <td>42.55</td>\n",
       "      <td>792.05</td>\n",
       "      <td>597.4020</td>\n",
       "    </tr>\n",
       "    <tr>\n",
       "      <th>3</th>\n",
       "      <td>10000012</td>\n",
       "      <td>27703</td>\n",
       "      <td>Card</td>\n",
       "      <td>Male</td>\n",
       "      <td>27</td>\n",
       "      <td>9237</td>\n",
       "      <td>42375</td>\n",
       "      <td>Pink Cab</td>\n",
       "      <td>ATLANTA GA</td>\n",
       "      <td>28.62</td>\n",
       "      <td>358.52</td>\n",
       "      <td>334.8540</td>\n",
       "    </tr>\n",
       "    <tr>\n",
       "      <th>4</th>\n",
       "      <td>10320494</td>\n",
       "      <td>27703</td>\n",
       "      <td>Card</td>\n",
       "      <td>Male</td>\n",
       "      <td>27</td>\n",
       "      <td>9237</td>\n",
       "      <td>43211</td>\n",
       "      <td>Yellow Cab</td>\n",
       "      <td>ATLANTA GA</td>\n",
       "      <td>36.38</td>\n",
       "      <td>721.10</td>\n",
       "      <td>467.1192</td>\n",
       "    </tr>\n",
       "  </tbody>\n",
       "</table>\n",
       "</div>"
      ],
      "text/plain": [
       "   Transaction_ID  Customer_ID Payment_Mode Gender  Age  Income_(USD/Month)  \\\n",
       "0        10000011        29290         Card   Male   28               10813   \n",
       "1        10351127        29290         Cash   Male   28               10813   \n",
       "2        10412921        29290         Card   Male   28               10813   \n",
       "3        10000012        27703         Card   Male   27                9237   \n",
       "4        10320494        27703         Card   Male   27                9237   \n",
       "\n",
       "   Date_of_Travel     Company        City  KM_Travelled  Price_Charged  \\\n",
       "0           42377    Pink Cab  ATLANTA GA         30.45         370.95   \n",
       "1           43302  Yellow Cab  ATLANTA GA         26.19         598.70   \n",
       "2           43427  Yellow Cab  ATLANTA GA         42.55         792.05   \n",
       "3           42375    Pink Cab  ATLANTA GA         28.62         358.52   \n",
       "4           43211  Yellow Cab  ATLANTA GA         36.38         721.10   \n",
       "\n",
       "   Cost_of_Trip  \n",
       "0      313.6350  \n",
       "1      317.4228  \n",
       "2      597.4020  \n",
       "3      334.8540  \n",
       "4      467.1192  "
      ]
     },
     "execution_count": 142,
     "metadata": {},
     "output_type": "execute_result"
    }
   ],
   "source": [
    "df_merge.head()"
   ]
  },
  {
   "cell_type": "markdown",
   "id": "0a86def9-65c7-4a3e-9cec-7d55aad8b587",
   "metadata": {},
   "source": [
    "##### Checking merged dataset on `info()` and `isnull()` missing values"
   ]
  },
  {
   "cell_type": "code",
   "execution_count": 143,
   "id": "fc785ba1-dfb7-4365-a47c-781b7c72ec67",
   "metadata": {},
   "outputs": [
    {
     "name": "stdout",
     "output_type": "stream",
     "text": [
      "<class 'pandas.core.frame.DataFrame'>\n",
      "Int64Index: 359392 entries, 0 to 359391\n",
      "Data columns (total 12 columns):\n",
      " #   Column              Non-Null Count   Dtype  \n",
      "---  ------              --------------   -----  \n",
      " 0   Transaction_ID      359392 non-null  int64  \n",
      " 1   Customer_ID         359392 non-null  int64  \n",
      " 2   Payment_Mode        359392 non-null  object \n",
      " 3   Gender              359392 non-null  object \n",
      " 4   Age                 359392 non-null  int64  \n",
      " 5   Income_(USD/Month)  359392 non-null  int64  \n",
      " 6   Date_of_Travel      359392 non-null  int64  \n",
      " 7   Company             359392 non-null  object \n",
      " 8   City                359392 non-null  object \n",
      " 9   KM_Travelled        359392 non-null  float64\n",
      " 10  Price_Charged       359392 non-null  float64\n",
      " 11  Cost_of_Trip        359392 non-null  float64\n",
      "dtypes: float64(3), int64(5), object(4)\n",
      "memory usage: 35.6+ MB\n"
     ]
    }
   ],
   "source": [
    "#Summary\n",
    "df_merge.info()"
   ]
  },
  {
   "cell_type": "code",
   "execution_count": 144,
   "id": "42fc6e40-0832-4198-84ce-798bc02285ad",
   "metadata": {},
   "outputs": [
    {
     "data": {
      "text/plain": [
       "Transaction_ID        0\n",
       "Customer_ID           0\n",
       "Payment_Mode          0\n",
       "Gender                0\n",
       "Age                   0\n",
       "Income_(USD/Month)    0\n",
       "Date_of_Travel        0\n",
       "Company               0\n",
       "City                  0\n",
       "KM_Travelled          0\n",
       "Price_Charged         0\n",
       "Cost_of_Trip          0\n",
       "dtype: int64"
      ]
     },
     "execution_count": 144,
     "metadata": {},
     "output_type": "execute_result"
    }
   ],
   "source": [
    "#checks for null values\n",
    "df_merge.isnull().sum()"
   ]
  },
  {
   "cell_type": "markdown",
   "id": "980689eb-eb18-4dad-b688-b5a9dba8486b",
   "metadata": {},
   "source": [
    "#### Extracting  Year, Month and Day from DataFrame"
   ]
  },
  {
   "cell_type": "code",
   "execution_count": 148,
   "id": "b11e905b-dc6e-4e75-845f-74559bf48b61",
   "metadata": {},
   "outputs": [],
   "source": [
    "def read_date(date):\n",
    "    return xlrd.xldate.xldate_as_datetime(date, 0)\n",
    "    \n",
    "df_merge['Date_of_Travel'] = pd.to_datetime(df_merge['Date_of_Travel'].apply(read_date), errors='coerce', format='%Y-%m-%d')"
   ]
  },
  {
   "cell_type": "code",
   "execution_count": 150,
   "id": "b18d94c2-e7c0-46c2-b461-5b4018e6f47f",
   "metadata": {},
   "outputs": [],
   "source": [
    "#Create Month and year column to get data from Date column\n",
    "months=[]\n",
    "years =[]\n",
    "for i in range(len(df_merge['Date_of_Travel'])):\n",
    "    months.append(df_merge['Date_of_Travel'][i].month)\n",
    "    years.append(df_merge['Date_of_Travel'][i].year)\n",
    "df_merge['Month'] = months\n",
    "df_merge['Year'] = years\n",
    "df_merge['Day_of_Week'] = df_merge['Date_of_Travel'].dt.day_name()"
   ]
  },
  {
   "cell_type": "code",
   "execution_count": 151,
   "id": "b619bbb6-8751-4485-a762-45ffc44374c9",
   "metadata": {},
   "outputs": [
    {
     "data": {
      "text/html": [
       "<div>\n",
       "<style scoped>\n",
       "    .dataframe tbody tr th:only-of-type {\n",
       "        vertical-align: middle;\n",
       "    }\n",
       "\n",
       "    .dataframe tbody tr th {\n",
       "        vertical-align: top;\n",
       "    }\n",
       "\n",
       "    .dataframe thead th {\n",
       "        text-align: right;\n",
       "    }\n",
       "</style>\n",
       "<table border=\"1\" class=\"dataframe\">\n",
       "  <thead>\n",
       "    <tr style=\"text-align: right;\">\n",
       "      <th></th>\n",
       "      <th>Transaction_ID</th>\n",
       "      <th>Customer_ID</th>\n",
       "      <th>Payment_Mode</th>\n",
       "      <th>Gender</th>\n",
       "      <th>Age</th>\n",
       "      <th>Income_(USD/Month)</th>\n",
       "      <th>Date_of_Travel</th>\n",
       "      <th>Company</th>\n",
       "      <th>City</th>\n",
       "      <th>KM_Travelled</th>\n",
       "      <th>Price_Charged</th>\n",
       "      <th>Cost_of_Trip</th>\n",
       "      <th>Month</th>\n",
       "      <th>Year</th>\n",
       "      <th>Day_of_Week</th>\n",
       "    </tr>\n",
       "  </thead>\n",
       "  <tbody>\n",
       "    <tr>\n",
       "      <th>0</th>\n",
       "      <td>10000011</td>\n",
       "      <td>29290</td>\n",
       "      <td>Card</td>\n",
       "      <td>Male</td>\n",
       "      <td>28</td>\n",
       "      <td>10813</td>\n",
       "      <td>2016-01-08</td>\n",
       "      <td>Pink Cab</td>\n",
       "      <td>ATLANTA GA</td>\n",
       "      <td>30.45</td>\n",
       "      <td>370.95</td>\n",
       "      <td>313.6350</td>\n",
       "      <td>1</td>\n",
       "      <td>2016</td>\n",
       "      <td>Friday</td>\n",
       "    </tr>\n",
       "    <tr>\n",
       "      <th>1</th>\n",
       "      <td>10351127</td>\n",
       "      <td>29290</td>\n",
       "      <td>Cash</td>\n",
       "      <td>Male</td>\n",
       "      <td>28</td>\n",
       "      <td>10813</td>\n",
       "      <td>2018-07-21</td>\n",
       "      <td>Yellow Cab</td>\n",
       "      <td>ATLANTA GA</td>\n",
       "      <td>26.19</td>\n",
       "      <td>598.70</td>\n",
       "      <td>317.4228</td>\n",
       "      <td>7</td>\n",
       "      <td>2018</td>\n",
       "      <td>Saturday</td>\n",
       "    </tr>\n",
       "    <tr>\n",
       "      <th>2</th>\n",
       "      <td>10412921</td>\n",
       "      <td>29290</td>\n",
       "      <td>Card</td>\n",
       "      <td>Male</td>\n",
       "      <td>28</td>\n",
       "      <td>10813</td>\n",
       "      <td>2018-11-23</td>\n",
       "      <td>Yellow Cab</td>\n",
       "      <td>ATLANTA GA</td>\n",
       "      <td>42.55</td>\n",
       "      <td>792.05</td>\n",
       "      <td>597.4020</td>\n",
       "      <td>11</td>\n",
       "      <td>2018</td>\n",
       "      <td>Friday</td>\n",
       "    </tr>\n",
       "    <tr>\n",
       "      <th>3</th>\n",
       "      <td>10000012</td>\n",
       "      <td>27703</td>\n",
       "      <td>Card</td>\n",
       "      <td>Male</td>\n",
       "      <td>27</td>\n",
       "      <td>9237</td>\n",
       "      <td>2016-01-06</td>\n",
       "      <td>Pink Cab</td>\n",
       "      <td>ATLANTA GA</td>\n",
       "      <td>28.62</td>\n",
       "      <td>358.52</td>\n",
       "      <td>334.8540</td>\n",
       "      <td>1</td>\n",
       "      <td>2016</td>\n",
       "      <td>Wednesday</td>\n",
       "    </tr>\n",
       "    <tr>\n",
       "      <th>4</th>\n",
       "      <td>10320494</td>\n",
       "      <td>27703</td>\n",
       "      <td>Card</td>\n",
       "      <td>Male</td>\n",
       "      <td>27</td>\n",
       "      <td>9237</td>\n",
       "      <td>2018-04-21</td>\n",
       "      <td>Yellow Cab</td>\n",
       "      <td>ATLANTA GA</td>\n",
       "      <td>36.38</td>\n",
       "      <td>721.10</td>\n",
       "      <td>467.1192</td>\n",
       "      <td>4</td>\n",
       "      <td>2018</td>\n",
       "      <td>Saturday</td>\n",
       "    </tr>\n",
       "  </tbody>\n",
       "</table>\n",
       "</div>"
      ],
      "text/plain": [
       "   Transaction_ID  Customer_ID Payment_Mode Gender  Age  Income_(USD/Month)  \\\n",
       "0        10000011        29290         Card   Male   28               10813   \n",
       "1        10351127        29290         Cash   Male   28               10813   \n",
       "2        10412921        29290         Card   Male   28               10813   \n",
       "3        10000012        27703         Card   Male   27                9237   \n",
       "4        10320494        27703         Card   Male   27                9237   \n",
       "\n",
       "  Date_of_Travel     Company        City  KM_Travelled  Price_Charged  \\\n",
       "0     2016-01-08    Pink Cab  ATLANTA GA         30.45         370.95   \n",
       "1     2018-07-21  Yellow Cab  ATLANTA GA         26.19         598.70   \n",
       "2     2018-11-23  Yellow Cab  ATLANTA GA         42.55         792.05   \n",
       "3     2016-01-06    Pink Cab  ATLANTA GA         28.62         358.52   \n",
       "4     2018-04-21  Yellow Cab  ATLANTA GA         36.38         721.10   \n",
       "\n",
       "   Cost_of_Trip  Month  Year Day_of_Week  \n",
       "0      313.6350      1  2016      Friday  \n",
       "1      317.4228      7  2018    Saturday  \n",
       "2      597.4020     11  2018      Friday  \n",
       "3      334.8540      1  2016   Wednesday  \n",
       "4      467.1192      4  2018    Saturday  "
      ]
     },
     "execution_count": 151,
     "metadata": {},
     "output_type": "execute_result"
    }
   ],
   "source": [
    "df_merge.head()"
   ]
  },
  {
   "cell_type": "code",
   "execution_count": 152,
   "id": "06719f66-405f-471c-98c3-9c4e9a03a443",
   "metadata": {
    "tags": []
   },
   "outputs": [],
   "source": [
    "#adding a new column of margin\n",
    "df_merge['Margin']=df_merge['Price_Charged']-df_merge['Cost_of_Trip']"
   ]
  },
  {
   "cell_type": "code",
   "execution_count": 153,
   "id": "94a89c09-bb0f-4606-aa0e-900bc033e232",
   "metadata": {},
   "outputs": [
    {
     "data": {
      "text/html": [
       "<div>\n",
       "<style scoped>\n",
       "    .dataframe tbody tr th:only-of-type {\n",
       "        vertical-align: middle;\n",
       "    }\n",
       "\n",
       "    .dataframe tbody tr th {\n",
       "        vertical-align: top;\n",
       "    }\n",
       "\n",
       "    .dataframe thead th {\n",
       "        text-align: right;\n",
       "    }\n",
       "</style>\n",
       "<table border=\"1\" class=\"dataframe\">\n",
       "  <thead>\n",
       "    <tr style=\"text-align: right;\">\n",
       "      <th></th>\n",
       "      <th>Transaction_ID</th>\n",
       "      <th>Customer_ID</th>\n",
       "      <th>Payment_Mode</th>\n",
       "      <th>Gender</th>\n",
       "      <th>Age</th>\n",
       "      <th>Income_(USD/Month)</th>\n",
       "      <th>Date_of_Travel</th>\n",
       "      <th>Company</th>\n",
       "      <th>City</th>\n",
       "      <th>KM_Travelled</th>\n",
       "      <th>Price_Charged</th>\n",
       "      <th>Cost_of_Trip</th>\n",
       "      <th>Month</th>\n",
       "      <th>Year</th>\n",
       "      <th>Day_of_Week</th>\n",
       "      <th>Margin</th>\n",
       "    </tr>\n",
       "  </thead>\n",
       "  <tbody>\n",
       "    <tr>\n",
       "      <th>0</th>\n",
       "      <td>10000011</td>\n",
       "      <td>29290</td>\n",
       "      <td>Card</td>\n",
       "      <td>Male</td>\n",
       "      <td>28</td>\n",
       "      <td>10813</td>\n",
       "      <td>2016-01-08</td>\n",
       "      <td>Pink Cab</td>\n",
       "      <td>ATLANTA GA</td>\n",
       "      <td>30.45</td>\n",
       "      <td>370.95</td>\n",
       "      <td>313.6350</td>\n",
       "      <td>1</td>\n",
       "      <td>2016</td>\n",
       "      <td>Friday</td>\n",
       "      <td>57.3150</td>\n",
       "    </tr>\n",
       "    <tr>\n",
       "      <th>1</th>\n",
       "      <td>10351127</td>\n",
       "      <td>29290</td>\n",
       "      <td>Cash</td>\n",
       "      <td>Male</td>\n",
       "      <td>28</td>\n",
       "      <td>10813</td>\n",
       "      <td>2018-07-21</td>\n",
       "      <td>Yellow Cab</td>\n",
       "      <td>ATLANTA GA</td>\n",
       "      <td>26.19</td>\n",
       "      <td>598.70</td>\n",
       "      <td>317.4228</td>\n",
       "      <td>7</td>\n",
       "      <td>2018</td>\n",
       "      <td>Saturday</td>\n",
       "      <td>281.2772</td>\n",
       "    </tr>\n",
       "    <tr>\n",
       "      <th>2</th>\n",
       "      <td>10412921</td>\n",
       "      <td>29290</td>\n",
       "      <td>Card</td>\n",
       "      <td>Male</td>\n",
       "      <td>28</td>\n",
       "      <td>10813</td>\n",
       "      <td>2018-11-23</td>\n",
       "      <td>Yellow Cab</td>\n",
       "      <td>ATLANTA GA</td>\n",
       "      <td>42.55</td>\n",
       "      <td>792.05</td>\n",
       "      <td>597.4020</td>\n",
       "      <td>11</td>\n",
       "      <td>2018</td>\n",
       "      <td>Friday</td>\n",
       "      <td>194.6480</td>\n",
       "    </tr>\n",
       "    <tr>\n",
       "      <th>3</th>\n",
       "      <td>10000012</td>\n",
       "      <td>27703</td>\n",
       "      <td>Card</td>\n",
       "      <td>Male</td>\n",
       "      <td>27</td>\n",
       "      <td>9237</td>\n",
       "      <td>2016-01-06</td>\n",
       "      <td>Pink Cab</td>\n",
       "      <td>ATLANTA GA</td>\n",
       "      <td>28.62</td>\n",
       "      <td>358.52</td>\n",
       "      <td>334.8540</td>\n",
       "      <td>1</td>\n",
       "      <td>2016</td>\n",
       "      <td>Wednesday</td>\n",
       "      <td>23.6660</td>\n",
       "    </tr>\n",
       "    <tr>\n",
       "      <th>4</th>\n",
       "      <td>10320494</td>\n",
       "      <td>27703</td>\n",
       "      <td>Card</td>\n",
       "      <td>Male</td>\n",
       "      <td>27</td>\n",
       "      <td>9237</td>\n",
       "      <td>2018-04-21</td>\n",
       "      <td>Yellow Cab</td>\n",
       "      <td>ATLANTA GA</td>\n",
       "      <td>36.38</td>\n",
       "      <td>721.10</td>\n",
       "      <td>467.1192</td>\n",
       "      <td>4</td>\n",
       "      <td>2018</td>\n",
       "      <td>Saturday</td>\n",
       "      <td>253.9808</td>\n",
       "    </tr>\n",
       "  </tbody>\n",
       "</table>\n",
       "</div>"
      ],
      "text/plain": [
       "   Transaction_ID  Customer_ID Payment_Mode Gender  Age  Income_(USD/Month)  \\\n",
       "0        10000011        29290         Card   Male   28               10813   \n",
       "1        10351127        29290         Cash   Male   28               10813   \n",
       "2        10412921        29290         Card   Male   28               10813   \n",
       "3        10000012        27703         Card   Male   27                9237   \n",
       "4        10320494        27703         Card   Male   27                9237   \n",
       "\n",
       "  Date_of_Travel     Company        City  KM_Travelled  Price_Charged  \\\n",
       "0     2016-01-08    Pink Cab  ATLANTA GA         30.45         370.95   \n",
       "1     2018-07-21  Yellow Cab  ATLANTA GA         26.19         598.70   \n",
       "2     2018-11-23  Yellow Cab  ATLANTA GA         42.55         792.05   \n",
       "3     2016-01-06    Pink Cab  ATLANTA GA         28.62         358.52   \n",
       "4     2018-04-21  Yellow Cab  ATLANTA GA         36.38         721.10   \n",
       "\n",
       "   Cost_of_Trip  Month  Year Day_of_Week    Margin  \n",
       "0      313.6350      1  2016      Friday   57.3150  \n",
       "1      317.4228      7  2018    Saturday  281.2772  \n",
       "2      597.4020     11  2018      Friday  194.6480  \n",
       "3      334.8540      1  2016   Wednesday   23.6660  \n",
       "4      467.1192      4  2018    Saturday  253.9808  "
      ]
     },
     "execution_count": 153,
     "metadata": {},
     "output_type": "execute_result"
    }
   ],
   "source": [
    "df_merge.head()"
   ]
  },
  {
   "cell_type": "markdown",
   "id": "360fee5b-346d-4183-b2d5-5cf267f17102",
   "metadata": {},
   "source": [
    "## Exploring Cab companies business performance. \n",
    "We are going to talk about key indicators that will help you make decisions on how to invest in cab business going forward. This will help us understand the kinds of company we will move forward with and invest in.\n",
    "\n",
    "Key indicators are often referred to as KPIs, or key performance indicators. These are critical and measurable indicators that help you measure a desired result.\n",
    "\n",
    "**What are some common and important examples of KPIs?**\n",
    "\n",
    "- Net profit\n",
    "- Revenue growth\n",
    "- Customer retention\n",
    "- Time to market\n",
    "- Sales lifecycle time\n",
    "\n",
    "**This brings us to the following questions:**\n",
    "\n",
    "- Which company is the most profitable? \n",
    "- Revenue growth rate?\n",
    "- Which company has the highest average revenue per user (ARPU) ?\n",
    "- Which company has the highest share of the market?\n",
    "- Which company has the highest number of active customer ? \n",
    "- Which company has the lowest churn rate? \n",
    "- Explore customer travel behaviors, patterns by week, month, year?"
   ]
  },
  {
   "cell_type": "code",
   "execution_count": 154,
   "id": "587d62e9-941e-405c-a72c-b9a1c84d33dd",
   "metadata": {},
   "outputs": [
    {
     "data": {
      "image/png": "[encoded data removed]",
      "text/plain": [
       "<Figure size 720x432 with 2 Axes>"
      ]
     },
     "metadata": {},
     "output_type": "display_data"
    }
   ],
   "source": [
    "# checking the correlation in order  to identify multicollinearity, an absolute value of 0.5 shows high correlation\n",
    "plt.subplots(figsize=(10,6))\n",
    "sns.heatmap(df_merge.corr(), cmap='PuBu', annot=True)\n",
    "plt.show()"
   ]
  },
  {
   "cell_type": "code",
   "execution_count": 155,
   "id": "c5b8f473-6e3f-4d25-a3a8-cbac6bf72d27",
   "metadata": {},
   "outputs": [],
   "source": [
    "# before doing EDA, let's split the dataset into Pink Cab and Yellow Cab\n",
    "Pink_Cab = df_merge[df_merge['Company']=='Pink Cab']\n",
    "Yellow_Cab = df_merge[df_merge['Company']=='Yellow Cab']"
   ]
  },
  {
   "cell_type": "markdown",
   "id": "edb6a9c5-64d7-4dbf-8ce5-09183ed21b7f",
   "metadata": {},
   "source": [
    "### 1. Which company is the most profitable?"
   ]
  },
  {
   "cell_type": "markdown",
   "id": "0f0fbdc7-09c4-4bed-9412-715c104d750f",
   "metadata": {},
   "source": [
    " The Margin/profit generated in the business is the perfect indicator to measure on how well the business is performing"
   ]
  },
  {
   "cell_type": "code",
   "execution_count": 171,
   "id": "425a562c-8e4b-48ef-8959-bbacfb7a9372",
   "metadata": {},
   "outputs": [
    {
     "data": {
      "image/png": "[encoded data removed]",
      "text/plain": [
       "<Figure size 432x288 with 1 Axes>"
      ]
     },
     "metadata": {},
     "output_type": "display_data"
    },
    {
     "data": {
      "text/plain": [
       "<Figure size 432x288 with 0 Axes>"
      ]
     },
     "metadata": {},
     "output_type": "display_data"
    }
   ],
   "source": [
    "sns.set_style(\"dark\")\n",
    "sns.barplot(x=\"Company\", y=\"Margin\", palette={\"Pink Cab\": \"m\", \"Yellow Cab\": \"y\"}, data=df_merge, estimator=sum,)\n",
    "plt.title(\"Each company's profit during 3 years\")\n",
    "\n",
    "plt.show()\n",
    "plt.clf()"
   ]
  },
  {
   "cell_type": "markdown",
   "id": "b85efb4b-433e-45e1-bacd-8da6a469c1b9",
   "metadata": {},
   "source": [
    "**Insight:The Yellow cab generated the highest profits in three years, and `8.2` times more than Pink cab.**"
   ]
  },
  {
   "cell_type": "code",
   "execution_count": 170,
   "id": "8593e6ce-92e3-4f9c-a7f7-b53d2b6b4d82",
   "metadata": {},
   "outputs": [
    {
     "data": {
      "text/plain": [
       "<seaborn.axisgrid.FacetGrid at 0x18d78308820>"
      ]
     },
     "execution_count": 170,
     "metadata": {},
     "output_type": "execute_result"
    },
    {
     "data": {
      "image/png": "[encoded data removed]",
      "text/plain": [
       "<Figure size 454.6x360 with 1 Axes>"
      ]
     },
     "metadata": {},
     "output_type": "display_data"
    }
   ],
   "source": [
    "#Profit by Year\n",
    "sns.set_style(\"dark\")\n",
    "sns.catplot(x=\"Year\", y=\"Margin\", hue=\"Company\",\n",
    "            palette={\"Yellow Cab\": \"y\", \"Pink Cab\": \"m\"},\n",
    "            markers=[\"o\", \"^\"], linestyles=[\"-\", \"-\"],\n",
    "            kind=\"point\", estimator=sum, data=df_merge)"
   ]
  },
  {
   "cell_type": "markdown",
   "id": "487500ed-75fe-4f3b-8098-e5ca3794373e",
   "metadata": {},
   "source": [
    "**Insight: Yellow company profit skyrocketed in 2017, followed by a sharp decrease in 2018.\n",
    "On other hand, Pink company profit remains steady all over time.**"
   ]
  },
  {
   "cell_type": "code",
   "execution_count": 201,
   "id": "5cf616ae-5fac-4b67-93ac-7443121cd985",
   "metadata": {},
   "outputs": [
    {
     "data": {
      "text/plain": [
       "<seaborn.axisgrid.FacetGrid at 0x18d3a1691c0>"
      ]
     },
     "execution_count": 201,
     "metadata": {},
     "output_type": "execute_result"
    },
    {
     "data": {
      "image/png": "[encoded data removed]",
      "text/plain": [
       "<Figure size 454.6x360 with 1 Axes>"
      ]
     },
     "metadata": {},
     "output_type": "display_data"
    }
   ],
   "source": [
    "#Profit by Months\n",
    "sns.set_style(\"dark\")\n",
    "sns.catplot(x=\"Month\", y=\"Margin\", hue=\"Company\",\n",
    "            palette={\"Yellow Cab\": \"y\", \"Pink Cab\": \"m\"},\n",
    "            markers=[\"o\", \"^\"], linestyles=[\"-\", \"-\"],\n",
    "            kind=\"point\", estimator=sum, data=df_merge)"
   ]
  },
  {
   "cell_type": "markdown",
   "id": "a17d79d9-0e94-4e83-a568-a17206fc76d2",
   "metadata": {},
   "source": [
    "**Insight: We can see seasonal increase profit pattern from AUGUST to December.** "
   ]
  },
  {
   "cell_type": "code",
   "execution_count": 205,
   "id": "704ce06b-4289-4a83-b253-5d82941eca3e",
   "metadata": {},
   "outputs": [
    {
     "data": {
      "text/plain": [
       "<seaborn.axisgrid.FacetGrid at 0x18d45e00d60>"
      ]
     },
     "execution_count": 205,
     "metadata": {},
     "output_type": "execute_result"
    },
    {
     "data": {
      "image/png": "[encoded data removed]",
      "text/plain": [
       "<Figure size 454.6x360 with 1 Axes>"
      ]
     },
     "metadata": {},
     "output_type": "display_data"
    }
   ],
   "source": [
    "#Profit by Week days\n",
    "sns.set_style(\"dark\")\n",
    "sns.catplot(x=\"Day_of_Week\", y=\"Margin\", hue=\"Company\",\n",
    "            palette={\"Yellow Cab\": \"y\", \"Pink Cab\": \"m\"},\n",
    "            markers=[\"o\", \"^\"], linestyles=[\"-\", \"-\"],\n",
    "            kind=\"point\", estimator=sum, data=df_merge)"
   ]
  },
  {
   "cell_type": "markdown",
   "id": "a8ebdbd8-2b7c-4a86-bfc9-27dfa9a4e7a6",
   "metadata": {},
   "source": [
    "**Insight: Yellow cab's profit started to `increase from Wednesday day to reach a peak on Friday` and decrease slowly to Sunday. In contrast Pink Cab had a stable profit in everyday of a week with the slightly `increase from Thursday to Friday`.**"
   ]
  },
  {
   "cell_type": "markdown",
   "id": "e68adbe1-afef-4515-9f51-2e13cff487d2",
   "metadata": {},
   "source": [
    "### 2. Which company has the highest average revenue per user (ARPU) ?"
   ]
  },
  {
   "cell_type": "code",
   "execution_count": 234,
   "id": "f62a5043-bac5-4461-a3e2-fa06de052bba",
   "metadata": {},
   "outputs": [],
   "source": [
    "#Groupby Year, and Company\n",
    "ARPU_df = df_merge.groupby([\"Company\", \"Year\"]).agg({'Price_Charged': sum, \"Customer_ID\" : \"count\"})"
   ]
  },
  {
   "cell_type": "code",
   "execution_count": 236,
   "id": "38ee1b38-9313-4811-a34e-0e3a07adc9f2",
   "metadata": {},
   "outputs": [
    {
     "data": {
      "text/html": [
       "<div>\n",
       "<style scoped>\n",
       "    .dataframe tbody tr th:only-of-type {\n",
       "        vertical-align: middle;\n",
       "    }\n",
       "\n",
       "    .dataframe tbody tr th {\n",
       "        vertical-align: top;\n",
       "    }\n",
       "\n",
       "    .dataframe thead th {\n",
       "        text-align: right;\n",
       "    }\n",
       "</style>\n",
       "<table border=\"1\" class=\"dataframe\">\n",
       "  <thead>\n",
       "    <tr style=\"text-align: right;\">\n",
       "      <th></th>\n",
       "      <th></th>\n",
       "      <th>Price_Charged</th>\n",
       "      <th>Customer_ID</th>\n",
       "      <th>ARPU</th>\n",
       "    </tr>\n",
       "    <tr>\n",
       "      <th>Company</th>\n",
       "      <th>Year</th>\n",
       "      <th></th>\n",
       "      <th></th>\n",
       "      <th></th>\n",
       "    </tr>\n",
       "  </thead>\n",
       "  <tbody>\n",
       "    <tr>\n",
       "      <th rowspan=\"3\" valign=\"top\">Pink Cab</th>\n",
       "      <th>2016</th>\n",
       "      <td>7908479.23</td>\n",
       "      <td>25080</td>\n",
       "      <td>315.33</td>\n",
       "    </tr>\n",
       "    <tr>\n",
       "      <th>2017</th>\n",
       "      <td>9578629.54</td>\n",
       "      <td>30321</td>\n",
       "      <td>315.91</td>\n",
       "    </tr>\n",
       "    <tr>\n",
       "      <th>2018</th>\n",
       "      <td>8841142.56</td>\n",
       "      <td>29310</td>\n",
       "      <td>301.64</td>\n",
       "    </tr>\n",
       "    <tr>\n",
       "      <th rowspan=\"3\" valign=\"top\">Yellow Cab</th>\n",
       "      <th>2016</th>\n",
       "      <td>38481133.18</td>\n",
       "      <td>82239</td>\n",
       "      <td>467.92</td>\n",
       "    </tr>\n",
       "    <tr>\n",
       "      <th>2017</th>\n",
       "      <td>45818910.04</td>\n",
       "      <td>98189</td>\n",
       "      <td>466.64</td>\n",
       "    </tr>\n",
       "    <tr>\n",
       "      <th>2018</th>\n",
       "      <td>41553843.97</td>\n",
       "      <td>94253</td>\n",
       "      <td>440.88</td>\n",
       "    </tr>\n",
       "  </tbody>\n",
       "</table>\n",
       "</div>"
      ],
      "text/plain": [
       "                 Price_Charged  Customer_ID    ARPU\n",
       "Company    Year                                    \n",
       "Pink Cab   2016     7908479.23        25080  315.33\n",
       "           2017     9578629.54        30321  315.91\n",
       "           2018     8841142.56        29310  301.64\n",
       "Yellow Cab 2016    38481133.18        82239  467.92\n",
       "           2017    45818910.04        98189  466.64\n",
       "           2018    41553843.97        94253  440.88"
      ]
     },
     "execution_count": 236,
     "metadata": {},
     "output_type": "execute_result"
    }
   ],
   "source": [
    "ARPU_df.head(10)"
   ]
  },
  {
   "cell_type": "code",
   "execution_count": 242,
   "id": "9b2c44dc-6c21-45ae-8b06-031c3f9513ce",
   "metadata": {},
   "outputs": [],
   "source": [
    "# Average revenue per user (ARPU)\n",
    "ARPU_df['ARPU']= round(ARPU_df['Price_Charged'] / ARPU_df['Customer_ID'],2)"
   ]
  },
  {
   "cell_type": "code",
   "execution_count": 243,
   "id": "8c439f68-663b-4810-bf3e-7df400226a94",
   "metadata": {},
   "outputs": [],
   "source": [
    "ARPU= ARPU_df.reset_index()"
   ]
  },
  {
   "cell_type": "code",
   "execution_count": 245,
   "id": "26d3ad4d-432b-498c-885a-8a0d8c9f9060",
   "metadata": {},
   "outputs": [
    {
     "data": {
      "image/png": "[encoded data removed]",
      "text/plain": [
       "<Figure size 432x288 with 1 Axes>"
      ]
     },
     "metadata": {},
     "output_type": "display_data"
    },
    {
     "data": {
      "text/plain": [
       "<Figure size 432x288 with 0 Axes>"
      ]
     },
     "metadata": {},
     "output_type": "display_data"
    }
   ],
   "source": [
    "sns.set_style(\"dark\")\n",
    "sns.barplot(x=\"Company\", y=\"ARPU\", palette={\"Pink Cab\": \"m\", \"Yellow Cab\": \"y\"}, data=ARPU)\n",
    "plt.title(\"Average revenue per user (ARPU)\")\n",
    "\n",
    "plt.show()\n",
    "plt.clf()"
   ]
  },
  {
   "cell_type": "code",
   "execution_count": 246,
   "id": "85613cce-df61-43d9-b661-e18c6aee6504",
   "metadata": {},
   "outputs": [
    {
     "data": {
      "text/html": [
       "<div>\n",
       "<style scoped>\n",
       "    .dataframe tbody tr th:only-of-type {\n",
       "        vertical-align: middle;\n",
       "    }\n",
       "\n",
       "    .dataframe tbody tr th {\n",
       "        vertical-align: top;\n",
       "    }\n",
       "\n",
       "    .dataframe thead th {\n",
       "        text-align: right;\n",
       "    }\n",
       "</style>\n",
       "<table border=\"1\" class=\"dataframe\">\n",
       "  <thead>\n",
       "    <tr style=\"text-align: right;\">\n",
       "      <th></th>\n",
       "      <th>Company</th>\n",
       "      <th>Year</th>\n",
       "      <th>Price_Charged</th>\n",
       "      <th>Customer_ID</th>\n",
       "      <th>ARPU</th>\n",
       "    </tr>\n",
       "  </thead>\n",
       "  <tbody>\n",
       "    <tr>\n",
       "      <th>0</th>\n",
       "      <td>Pink Cab</td>\n",
       "      <td>2016</td>\n",
       "      <td>7908479.23</td>\n",
       "      <td>25080</td>\n",
       "      <td>315.33</td>\n",
       "    </tr>\n",
       "    <tr>\n",
       "      <th>1</th>\n",
       "      <td>Pink Cab</td>\n",
       "      <td>2017</td>\n",
       "      <td>9578629.54</td>\n",
       "      <td>30321</td>\n",
       "      <td>315.91</td>\n",
       "    </tr>\n",
       "    <tr>\n",
       "      <th>2</th>\n",
       "      <td>Pink Cab</td>\n",
       "      <td>2018</td>\n",
       "      <td>8841142.56</td>\n",
       "      <td>29310</td>\n",
       "      <td>301.64</td>\n",
       "    </tr>\n",
       "    <tr>\n",
       "      <th>3</th>\n",
       "      <td>Yellow Cab</td>\n",
       "      <td>2016</td>\n",
       "      <td>38481133.18</td>\n",
       "      <td>82239</td>\n",
       "      <td>467.92</td>\n",
       "    </tr>\n",
       "    <tr>\n",
       "      <th>4</th>\n",
       "      <td>Yellow Cab</td>\n",
       "      <td>2017</td>\n",
       "      <td>45818910.04</td>\n",
       "      <td>98189</td>\n",
       "      <td>466.64</td>\n",
       "    </tr>\n",
       "    <tr>\n",
       "      <th>5</th>\n",
       "      <td>Yellow Cab</td>\n",
       "      <td>2018</td>\n",
       "      <td>41553843.97</td>\n",
       "      <td>94253</td>\n",
       "      <td>440.88</td>\n",
       "    </tr>\n",
       "  </tbody>\n",
       "</table>\n",
       "</div>"
      ],
      "text/plain": [
       "      Company  Year  Price_Charged  Customer_ID    ARPU\n",
       "0    Pink Cab  2016     7908479.23        25080  315.33\n",
       "1    Pink Cab  2017     9578629.54        30321  315.91\n",
       "2    Pink Cab  2018     8841142.56        29310  301.64\n",
       "3  Yellow Cab  2016    38481133.18        82239  467.92\n",
       "4  Yellow Cab  2017    45818910.04        98189  466.64\n",
       "5  Yellow Cab  2018    41553843.97        94253  440.88"
      ]
     },
     "execution_count": 246,
     "metadata": {},
     "output_type": "execute_result"
    }
   ],
   "source": [
    "ARPU.head(10)"
   ]
  },
  {
   "cell_type": "code",
   "execution_count": 260,
   "id": "ab088984-0a89-42f0-8d16-404bfc67c5ad",
   "metadata": {},
   "outputs": [],
   "source": [
    "arpu_c= ARPU.groupby(['Company']).agg({'ARPU': \"mean\"})"
   ]
  },
  {
   "cell_type": "code",
   "execution_count": 261,
   "id": "ebedc08d-c417-4b99-b6ca-c30e351714ff",
   "metadata": {},
   "outputs": [
    {
     "data": {
      "text/html": [
       "<div>\n",
       "<style scoped>\n",
       "    .dataframe tbody tr th:only-of-type {\n",
       "        vertical-align: middle;\n",
       "    }\n",
       "\n",
       "    .dataframe tbody tr th {\n",
       "        vertical-align: top;\n",
       "    }\n",
       "\n",
       "    .dataframe thead th {\n",
       "        text-align: right;\n",
       "    }\n",
       "</style>\n",
       "<table border=\"1\" class=\"dataframe\">\n",
       "  <thead>\n",
       "    <tr style=\"text-align: right;\">\n",
       "      <th></th>\n",
       "      <th>ARPU</th>\n",
       "    </tr>\n",
       "    <tr>\n",
       "      <th>Company</th>\n",
       "      <th></th>\n",
       "    </tr>\n",
       "  </thead>\n",
       "  <tbody>\n",
       "    <tr>\n",
       "      <th>Pink Cab</th>\n",
       "      <td>310.96</td>\n",
       "    </tr>\n",
       "    <tr>\n",
       "      <th>Yellow Cab</th>\n",
       "      <td>458.48</td>\n",
       "    </tr>\n",
       "  </tbody>\n",
       "</table>\n",
       "</div>"
      ],
      "text/plain": [
       "              ARPU\n",
       "Company           \n",
       "Pink Cab    310.96\n",
       "Yellow Cab  458.48"
      ]
     },
     "execution_count": 261,
     "metadata": {},
     "output_type": "execute_result"
    }
   ],
   "source": [
    "arpu_c.head()"
   ]
  },
  {
   "cell_type": "code",
   "execution_count": 251,
   "id": "41a98d16-8afb-4692-959f-1a4a0e8c24c8",
   "metadata": {},
   "outputs": [
    {
     "data": {
      "text/plain": [
       "<seaborn.axisgrid.FacetGrid at 0x18d2ca64520>"
      ]
     },
     "execution_count": 251,
     "metadata": {},
     "output_type": "execute_result"
    },
    {
     "data": {
      "image/png": "[encoded data removed]",
      "text/plain": [
       "<Figure size 454.6x360 with 1 Axes>"
      ]
     },
     "metadata": {},
     "output_type": "display_data"
    }
   ],
   "source": [
    "sns.catplot(x=\"Year\", y=\"ARPU\", hue=\"Company\",\n",
    "            palette={\"Yellow Cab\": \"y\", \"Pink Cab\": \"m\"},\n",
    "            markers=[\"o\", \"^\"], linestyles=[\"-\", \"-\"],\n",
    "            kind=\"point\", data=ARPU)"
   ]
  },
  {
   "cell_type": "markdown",
   "id": "7138eaf9-6203-4142-96d4-9d04c7486635",
   "metadata": {},
   "source": [
    "### Conclusion\n",
    "After careful analysis, we highly suggest to invest in Yellow Cab rather than Pink Cab for a better and safer investment. \n",
    "\n",
    "Firstly, Yellow Cab clearly is leading, generated `8.2` times more profit than Pink cab in 3 years. \n",
    "One of the main reason for Yellow Cab's profit was because of their high ARPU `$458`, and `94K` of active customers in `2018`.\n",
    "on other hand Pink Cab is ARPU is `$310`, they have `29K` active customers in `2018`. \n",
    "\n",
    "Secondly,\n",
    "Last but not least, Pink Cab is the most favorite for customers for their first ride while customers tend to pick yellow cab after 7 trips riding with both cab companies."
   ]
  }
 ],
 "metadata": {
  "kernelspec": {
   "display_name": "Python 3 (ipykernel)",
   "language": "python",
   "name": "python3"
  },
  "language_info": {
   "codemirror_mode": {
    "name": "ipython",
    "version": 3
   },
   "file_extension": ".py",
   "mimetype": "text/x-python",
   "name": "python",
   "nbconvert_exporter": "python",
   "pygments_lexer": "ipython3",
   "version": "3.9.6"
  }
 },
 "nbformat": 4,
 "nbformat_minor": 5
}
